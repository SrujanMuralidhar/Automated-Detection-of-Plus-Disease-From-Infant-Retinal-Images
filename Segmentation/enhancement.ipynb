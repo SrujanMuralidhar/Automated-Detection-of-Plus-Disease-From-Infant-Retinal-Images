{
 "cells": [
  {
   "cell_type": "code",
   "execution_count": 5,
   "metadata": {},
   "outputs": [],
   "source": [
    "import cv2\n",
    "from tqdm import tqdm\n",
    "import os\n",
    "import numpy as np"
   ]
  },
  {
   "cell_type": "code",
   "execution_count": 6,
   "metadata": {},
   "outputs": [],
   "source": [
    "PATH = r'Data_BV'\n",
    "NEW_PATH = 'Data_BV_gC_clahe'\n",
    "if(not os.path.exists(NEW_PATH)):\n",
    "    os.makedirs(NEW_PATH)"
   ]
  },
  {
   "cell_type": "code",
   "execution_count": 7,
   "metadata": {},
   "outputs": [],
   "source": [
    "def clahe(image_path):\n",
    "    image = cv2.imread(image_path)\n",
    "\n",
    "    # Convert the image from BGR to RGB\n",
    "    image_rgb = cv2.cvtColor(image, cv2.COLOR_BGR2RGB)\n",
    "\n",
    "    # Extract the green channel\n",
    "    green_channel = image_rgb[:, :, 1]\n",
    "    # Apply CLAHE to the green channel\n",
    "    clahe = cv2.createCLAHE(clipLimit=2.0, tileGridSize=(8, 8))\n",
    "    clahe_green = clahe.apply(green_channel)\n",
    "    # image[:,:,1] = clahe_green\n",
    "    image = clahe_green\n",
    "    return image"
   ]
  },
  {
   "cell_type": "code",
   "execution_count": 8,
   "metadata": {},
   "outputs": [],
   "source": [
    "def hist_channel_wise(image_path):\n",
    "    img = cv2.imread(image_path).astype(np.float32) / 255.0\n",
    "    img_b, img_g, img_r = cv2.split(img)\n",
    "    hist_eq_b = cv2.equalizeHist((img_b * 255).astype(np.uint8))\n",
    "    hist_eq_g = cv2.equalizeHist((img_g * 255).astype(np.uint8))\n",
    "    hist_eq_r = cv2.equalizeHist((img_r * 255).astype(np.uint8))\n",
    "    hist_eq_img = cv2.merge([hist_eq_b, hist_eq_g, hist_eq_r])\n",
    "    return hist_eq_img"
   ]
  },
  {
   "cell_type": "code",
   "execution_count": 9,
   "metadata": {},
   "outputs": [],
   "source": [
    "def identity(image_path):\n",
    "    img = cv2.imread(image_path)\n",
    "    return img"
   ]
  },
  {
   "cell_type": "code",
   "execution_count": 10,
   "metadata": {},
   "outputs": [
    {
     "name": "stderr",
     "output_type": "stream",
     "text": [
      "Folders:   0%|          | 0/4 [00:00<?, ?it/s]\n"
     ]
    },
    {
     "ename": "error",
     "evalue": "OpenCV(4.10.0) D:\\a\\opencv-python\\opencv-python\\opencv\\modules\\imgproc\\src\\color.cpp:196: error: (-215:Assertion failed) !_src.empty() in function 'cv::cvtColor'\n",
     "output_type": "error",
     "traceback": [
      "\u001b[1;31m---------------------------------------------------------------------------\u001b[0m",
      "\u001b[1;31merror\u001b[0m                                     Traceback (most recent call last)",
      "Cell \u001b[1;32mIn[10], line 9\u001b[0m\n\u001b[0;32m      7\u001b[0m \u001b[38;5;28;01mfor\u001b[39;00m img \u001b[38;5;129;01min\u001b[39;00m os\u001b[38;5;241m.\u001b[39mlistdir(dir_path):\n\u001b[0;32m      8\u001b[0m     full_path \u001b[38;5;241m=\u001b[39m os\u001b[38;5;241m.\u001b[39mpath\u001b[38;5;241m.\u001b[39mjoin(PATH,\u001b[38;5;28mdir\u001b[39m)\n\u001b[1;32m----> 9\u001b[0m     enhanced \u001b[38;5;241m=\u001b[39m \u001b[43mclahe\u001b[49m\u001b[43m(\u001b[49m\u001b[43mfull_path\u001b[49m\u001b[43m)\u001b[49m\n\u001b[0;32m     10\u001b[0m     destination \u001b[38;5;241m=\u001b[39m full_path\u001b[38;5;241m.\u001b[39mreplace(PATH,NEW_PATH)\n\u001b[0;32m     11\u001b[0m     \u001b[38;5;66;03m# destination = os.path.join(NEW_PATH,f\"{count}.png\")\u001b[39;00m\n",
      "Cell \u001b[1;32mIn[7], line 5\u001b[0m, in \u001b[0;36mclahe\u001b[1;34m(image_path)\u001b[0m\n\u001b[0;32m      2\u001b[0m image \u001b[38;5;241m=\u001b[39m cv2\u001b[38;5;241m.\u001b[39mimread(image_path)\n\u001b[0;32m      4\u001b[0m \u001b[38;5;66;03m# Convert the image from BGR to RGB\u001b[39;00m\n\u001b[1;32m----> 5\u001b[0m image_rgb \u001b[38;5;241m=\u001b[39m \u001b[43mcv2\u001b[49m\u001b[38;5;241;43m.\u001b[39;49m\u001b[43mcvtColor\u001b[49m\u001b[43m(\u001b[49m\u001b[43mimage\u001b[49m\u001b[43m,\u001b[49m\u001b[43m \u001b[49m\u001b[43mcv2\u001b[49m\u001b[38;5;241;43m.\u001b[39;49m\u001b[43mCOLOR_BGR2RGB\u001b[49m\u001b[43m)\u001b[49m\n\u001b[0;32m      7\u001b[0m \u001b[38;5;66;03m# Extract the green channel\u001b[39;00m\n\u001b[0;32m      8\u001b[0m green_channel \u001b[38;5;241m=\u001b[39m image_rgb[:, :, \u001b[38;5;241m1\u001b[39m]\n",
      "\u001b[1;31merror\u001b[0m: OpenCV(4.10.0) D:\\a\\opencv-python\\opencv-python\\opencv\\modules\\imgproc\\src\\color.cpp:196: error: (-215:Assertion failed) !_src.empty() in function 'cv::cvtColor'\n"
     ]
    }
   ],
   "source": [
    "count = 1\n",
    "for dir in tqdm(os.listdir(PATH),desc='Folders'):\n",
    "    dir_path = os.path.join(PATH,dir)\n",
    "    destination_dir = dir_path.replace(PATH,NEW_PATH)\n",
    "    if(not os.path.exists(destination_dir)):\n",
    "        os.makedirs(destination_dir)\n",
    "    for img in os.listdir(dir_path):\n",
    "        full_path = os.path.join(PATH,dir)\n",
    "        enhanced = clahe(full_path)\n",
    "        destination = full_path.replace(PATH,NEW_PATH)\n",
    "        # destination = os.path.join(NEW_PATH,f\"{count}.png\")\n",
    "        cv2.imwrite(destination,enhanced)\n",
    "        count+=1"
   ]
  },
  {
   "cell_type": "code",
   "execution_count": 3,
   "metadata": {},
   "outputs": [
    {
     "name": "stdout",
     "output_type": "stream",
     "text": [
      "Renamed 300 files in C:\\Users\\xerom\\Documents\\CAPSTONE\\CONFERENCE_PAPER\\Dataset\\Pre Plus.\n"
     ]
    }
   ],
   "source": [
    "import os\n",
    "\n",
    "def rename_files_in_folder(folder_path):\n",
    "    \"\"\" Rename all files in a folder sequentially starting from 1 \"\"\"\n",
    "    if not os.path.exists(folder_path):\n",
    "        print(\"The specified folder does not exist.\")\n",
    "        return\n",
    "\n",
    "    # Get a list of files in the folder\n",
    "    files = sorted(os.listdir(folder_path))\n",
    "    file_extension = os.path.splitext(files[0])[1]  # Get the extension of the first file\n",
    "    \n",
    "    # Rename files\n",
    "    for i, filename in enumerate(files, start=1):\n",
    "        old_file_path = os.path.join(folder_path, filename)\n",
    "        new_file_name = f\"{i}{file_extension}\"\n",
    "        new_file_path = os.path.join(folder_path, new_file_name)\n",
    "\n",
    "        # Rename file\n",
    "        os.rename(old_file_path, new_file_path)\n",
    "\n",
    "    print(f\"Renamed {len(files)} files in {folder_path}.\")\n",
    "\n",
    "# Specify the folder containing the files\n",
    "folder_path = r\"C:\\Users\\xerom\\Documents\\CAPSTONE\\CONFERENCE_PAPER\\Dataset\\Pre Plus\"  # Replace with the path to your folder\n",
    "\n",
    "rename_files_in_folder(folder_path)\n"
   ]
  }
 ],
 "metadata": {
  "kernelspec": {
   "display_name": "Python 3",
   "language": "python",
   "name": "python3"
  },
  "language_info": {
   "codemirror_mode": {
    "name": "ipython",
    "version": 3
   },
   "file_extension": ".py",
   "mimetype": "text/x-python",
   "name": "python",
   "nbconvert_exporter": "python",
   "pygments_lexer": "ipython3",
   "version": "3.12.6"
  }
 },
 "nbformat": 4,
 "nbformat_minor": 2
}
