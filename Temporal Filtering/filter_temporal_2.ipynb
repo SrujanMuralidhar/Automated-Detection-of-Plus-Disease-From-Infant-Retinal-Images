{
 "cells": [
  {
   "cell_type": "code",
   "execution_count": null,
   "metadata": {},
   "outputs": [],
   "source": [
    "import os\n",
    "from temporal import check_temporal\n",
    "import tqdm"
   ]
  },
  {
   "cell_type": "code",
   "execution_count": null,
   "metadata": {},
   "outputs": [],
   "source": [
    "PATH = '/home/saadbk/SBK/Capstone/Capstone_Stage_Wise'"
   ]
  },
  {
   "cell_type": "code",
   "execution_count": null,
   "metadata": {},
   "outputs": [],
   "source": [
    "# check_temporal('/home/saadbk/SBK/Capstone/Capstone_Stage_Wise/Stage 1/FHPL_83-2022_20220922130851_20221020114517_Image_02_0008_2022-10-20_11-46-18-339_1526.png')"
   ]
  },
  {
   "cell_type": "code",
   "execution_count": null,
   "metadata": {},
   "outputs": [],
   "source": [
    "for dir in tqdm.tqdm(os.listdir(PATH),desc='Folders'):\n",
    "    dir_path = os.path.join(PATH,dir)\n",
    "    for img in tqdm.tqdm(os.listdir(dir_path),desc='Files'):\n",
    "        full_path = os.path.join(dir_path,img)\n",
    "        if(not check_temporal(full_path)):\n",
    "            os.remove(full_path)"
   ]
  },
  {
   "cell_type": "code",
   "execution_count": null,
   "metadata": {},
   "outputs": [],
   "source": []
  }
 ],
 "metadata": {
  "kernelspec": {
   "display_name": "Python 3",
   "language": "python",
   "name": "python3"
  },
  "language_info": {
   "codemirror_mode": {
    "name": "ipython",
    "version": 3
   },
   "file_extension": ".py",
   "mimetype": "text/x-python",
   "name": "python",
   "nbconvert_exporter": "python",
   "pygments_lexer": "ipython3",
   "version": "3.12.4"
  }
 },
 "nbformat": 4,
 "nbformat_minor": 2
}
